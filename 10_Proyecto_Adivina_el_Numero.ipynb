{
 "cells": [
  {
   "cell_type": "markdown",
   "metadata": {},
   "source": [
    "# 10) Mini-proyecto integrador: *Adivina el número*\n",
    "\n",
    "## ¿Qué es?\n",
    "Un pequeño juego de consola para **aplicar todo lo aprendido**: entrada/salida, condicionales, bucles, funciones, manejo de errores y módulos.\n",
    "\n",
    "## ¿Para qué se usa?\n",
    "Para **integrar conceptos** en un programa con lógica de juego, retroalimentación y control de intentos.\n"
   ]
  },
  {
   "cell_type": "markdown",
   "metadata": {},
   "source": [
    "## Especificación\n",
    "- La máquina piensa un número de 1 a 20.\n",
    "- El usuario tiene 3 intentos.\n",
    "- Indica si el intento es mayor/menor y termina si acierta.\n",
    "- Maneja entradas inválidas sin romper el programa.\n",
    "\n",
    "## Extensiones sugeridas\n",
    "- Registrar los intentos y mostrarlos al final.\n",
    "- Elegir rango e intentos.\n",
    "- Guardar/leer puntuaciones de un archivo sencillo.\n"
   ]
  },
  {
   "cell_type": "code",
   "execution_count": 1,
   "metadata": {},
   "outputs": [
    {
     "name": "stdout",
     "output_type": "stream",
     "text": [
      "Adivina el número entre 1 y 20. Tienes 3 intentos.\n",
      "No es. Pista: el secreto es mayor.\n",
      "¡Correcto!\n"
     ]
    }
   ],
   "source": [
    "import random\n",
    "\n",
    "def leer_int(msg):\n",
    "    while True:\n",
    "        try:\n",
    "            return int(input(msg))\n",
    "        except ValueError:\n",
    "            print(\"Ingresa un entero válido.\")\n",
    "\n",
    "def juego(intentos=3, minimo=1, maximo=20):\n",
    "    secreto = random.randint(minimo, maximo)\n",
    "    print(f\"Adivina el número entre {minimo} y {maximo}. Tienes {intentos} intentos.\")\n",
    "    for i in range(1, intentos+1):\n",
    "        n = leer_int(f\"Intento {i}: \")\n",
    "        if n == secreto:\n",
    "            print(\"¡Correcto!\")\n",
    "            return\n",
    "        pista = \"mayor\" if n < secreto else \"menor\"\n",
    "        print(f\"No es. Pista: el secreto es {pista}.\")\n",
    "    print(f\"Sin intentos. Era {secreto}.\")\n",
    "\n",
    "if __name__ == \"__main__\":\n",
    "    juego()\n"
   ]
  },
  {
   "cell_type": "code",
   "execution_count": 4,
   "id": "51d303a5",
   "metadata": {},
   "outputs": [
    {
     "name": "stdout",
     "output_type": "stream",
     "text": [
      "Bienvenido a *Adivina el número*\n",
      "\n",
      " Listo Juan, el número está entre 1 y 10. ¡A jugar!\n",
      "\n",
      " El secreto es menor.\n",
      " ¡Correcto Juan! El número era 3.\n",
      "Te tomó 2 intento(s).\n",
      "\n",
      " Tus intentos fueron: [4, 3]\n"
     ]
    }
   ],
   "source": [
    "#Juego \n",
    "\n",
    "import random\n",
    "\n",
    "# ----------- Funciones auxiliares -----------\n",
    "\n",
    "def leer_int(msg, minimo=None, maximo=None):\n",
    "    \"\"\"Lee un entero válido dentro de un rango opcional.\"\"\"\n",
    "\n",
    "    while True:\n",
    "        try:\n",
    "            n = int(input(msg))\n",
    "            if minimo is not None and n < minimo:\n",
    "                print(f\"Debe ser mayor o igual a {minimo}.\")\n",
    "            elif maximo is not None and n > maximo:\n",
    "                print(f\"Debe ser menor o igual a {maximo}.\")\n",
    "            else:\n",
    "                return n\n",
    "        except ValueError:\n",
    "            print(\"Ingresa un número entero válido.\")\n",
    "\n",
    "def guardar_puntuacion(nombre, intentos_usados, secreto):\n",
    "    \"\"\"Guarda la puntuación en un archivo sencillo.\"\"\"\n",
    "    with open(\"puntuaciones.txt\", \"a\", encoding=\"utf-8\") as f:\n",
    "        f.write(f\"{nombre} adivinó en {intentos_usados} intentos. Número: {secreto}\\n\")\n",
    "\n",
    "# ----------- Lógica principal del juego -----------\n",
    "\n",
    "def juego():\n",
    "    print(\"Bienvenido a *Adivina el número*\")\n",
    "    nombre = input(\"¿Cuál es tu nombre?: \")\n",
    "\n",
    "    # Configuración del juego\n",
    "    minimo = leer_int(\"Ingresa el número mínimo del rango: \")\n",
    "    maximo = leer_int(\"Ingresa el número máximo del rango: \", minimo + 1)\n",
    "    intentos = leer_int(\"¿Cuántos intentos quieres?: \", 1)\n",
    "\n",
    "    secreto = random.randint(minimo, maximo)\n",
    "    usados = 0\n",
    "    historial = []\n",
    "\n",
    "    print(f\"\\n Listo {nombre}, el número está entre {minimo} y {maximo}. ¡A jugar!\\n\")\n",
    "\n",
    "    # Ciclo del juego\n",
    "    while usados < intentos:\n",
    "        n = leer_int(f\"Intento {usados+1}/{intentos}: \", minimo, maximo)\n",
    "        historial.append(n)\n",
    "        usados += 1\n",
    "\n",
    "        if n == secreto:\n",
    "            print(f\" ¡Correcto {nombre}! El número era {secreto}.\")\n",
    "            print(f\"Te tomó {usados} intento(s).\")\n",
    "            guardar_puntuacion(nombre, usados, secreto)\n",
    "            break\n",
    "        elif n < secreto:\n",
    "            print(\" El secreto es mayor.\")\n",
    "        else:\n",
    "            print(\" El secreto es menor.\")\n",
    "    else:\n",
    "        print(f\" Te quedaste sin intentos. El número era {secreto}.\")\n",
    "\n",
    "    # Mostrar historial\n",
    "    print(\"\\n Tus intentos fueron:\", historial)\n",
    "\n",
    "# ----------- Punto de entrada -----------\n",
    "\n",
    "if __name__ == \"__main__\":\n",
    "    juego()"
   ]
  }
 ],
 "metadata": {
  "kernelspec": {
   "display_name": "Python 3",
   "language": "python",
   "name": "python3"
  },
  "language_info": {
   "codemirror_mode": {
    "name": "ipython",
    "version": 3
   },
   "file_extension": ".py",
   "mimetype": "text/x-python",
   "name": "python",
   "nbconvert_exporter": "python",
   "pygments_lexer": "ipython3",
   "version": "3.12.10"
  }
 },
 "nbformat": 4,
 "nbformat_minor": 5
}
