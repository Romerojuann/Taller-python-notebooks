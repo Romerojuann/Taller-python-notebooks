{
 "cells": [
  {
   "cell_type": "markdown",
   "metadata": {},
   "source": [
    "# 9) Módulos y librerías estándar\n",
    "\n",
    "## ¿Qué son?\n",
    "Archivos y paquetes con **funciones reutilizables**. La **librería estándar** ofrece utilidades listas para usar.\n",
    "\n",
    "## ¿Para qué se usan?\n",
    "Para **no reinventar la rueda**: matemáticas, fechas, aleatoriedad, sistemas de archivos, etc.\n",
    "\n",
    "## Importar\n",
    "- `import modulo`\n",
    "- `from modulo import funcion`\n",
    "- Alias: `import modulo as m`\n"
   ]
  },
  {
   "cell_type": "code",
   "execution_count": null,
   "metadata": {},
   "outputs": [],
   "source": [
    "import math\n",
    "from datetime import datetime\n",
    "import random as rnd\n",
    "\n",
    "print(\"π ~\", math.pi, \"| sqrt(49) =\", math.sqrt(49))\n",
    "print(\"Ahora:\", datetime.now().strftime(\"%Y-%m-%d %H:%M\"))\n",
    "print(\"Aleatorio 1..10:\", rnd.randint(1,10))\n"
   ]
  },
  {
   "cell_type": "markdown",
   "metadata": {},
   "source": [
    "### Ejercicios\n",
    "- E1: Simula 100 lanzamientos de dado y cuenta frecuencias (dict).\n",
    "- E2: Calcula hipotenusa con `math.hypot(a,b)`.\n",
    "- E3: ¿Cuántos días faltan para fin de año?\n",
    "\n",
    "### Reto extra\n",
    "Juego **Piedra, Papel o Tijera** contra la máquina (mejor de 3).\n"
   ]
  },
  {
   "cell_type": "code",
   "execution_count": 1,
   "id": "d946bbeb",
   "metadata": {},
   "outputs": [
    {
     "name": "stdout",
     "output_type": "stream",
     "text": [
      "Frecuencias de los lanzamientos:\n",
      "1: 18\n",
      "2: 17\n",
      "3: 18\n",
      "4: 14\n",
      "5: 17\n",
      "6: 16\n"
     ]
    }
   ],
   "source": [
    "#Ejercicio 1\n",
    "\n",
    "#Importamos el módulo random, que nos permite generar números aleatorios.\n",
    "import random\n",
    "\n",
    "#Se crea un diccionario con las caras del dado (1 a 6)\n",
    "frecuencias = {i: 0 for i in range(1, 7)}  \n",
    "# 100 lanzamientos con un for\n",
    "for _ in range(100):\n",
    "    #random.randint(1, 6) genera un número aleatorio entre 1 y 6 (dado).\n",
    "    tiro = random.randint(1, 6)\n",
    "    #Se aumenta en 1 la cuenta del numero en el diccionario frecuencias.\n",
    "    frecuencias[tiro] += 1\n",
    "\n",
    "print(\"Frecuencias de los lanzamientos:\")\n",
    "for cara, veces in frecuencias.items():\n",
    "    #Se imprime cuántas veces salió cada cara del dado.\n",
    "    print(f\"{cara}: {veces}\")\n"
   ]
  },
  {
   "cell_type": "code",
   "execution_count": 2,
   "id": "69905742",
   "metadata": {},
   "outputs": [
    {
     "name": "stdout",
     "output_type": "stream",
     "text": [
      "La hipotenusa es: 7.211102550927978\n"
     ]
    }
   ],
   "source": [
    "#Ejercicio 2 \n",
    "\n",
    "import math\n",
    "\n",
    "a = float(input(\"Ingresa el cateto a: \"))\n",
    "b = float(input(\"Ingresa el cateto b: \"))\n",
    "\n",
    "hipotenusa = math.hypot(a, b)\n",
    "print(f\"La hipotenusa es: {hipotenusa}\")"
   ]
  },
  {
   "cell_type": "code",
   "execution_count": null,
   "id": "db30a399",
   "metadata": {},
   "outputs": [
    {
     "name": "stdout",
     "output_type": "stream",
     "text": [
      "2025-09-09\n",
      "Faltan 113 días para el fin del año.\n"
     ]
    }
   ],
   "source": [
    "#Ejercicio 3\n",
    "\n",
    "from datetime import date\n",
    "\n",
    "hoy = date.today()\n",
    "print(hoy) \n",
    "fin_ano = date(hoy.year, 12, 31)\n",
    "\n",
    "dias_faltantes = (fin_ano - hoy).days\n",
    "print(f\"Faltan {dias_faltantes} días para el fin del año.\")"
   ]
  }
 ],
 "metadata": {
  "kernelspec": {
   "display_name": "Python 3",
   "language": "python",
   "name": "python3"
  },
  "language_info": {
   "codemirror_mode": {
    "name": "ipython",
    "version": 3
   },
   "file_extension": ".py",
   "mimetype": "text/x-python",
   "name": "python",
   "nbconvert_exporter": "python",
   "pygments_lexer": "ipython3",
   "version": "3.12.10"
  }
 },
 "nbformat": 4,
 "nbformat_minor": 5
}
