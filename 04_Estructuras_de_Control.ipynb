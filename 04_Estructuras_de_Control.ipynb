{
 "cells": [
  {
   "cell_type": "markdown",
   "metadata": {},
   "source": [
    "# 4) Estructuras de control: `if`, `for`, `while`\n",
    "\n",
    "## ¿Qué son?\n",
    "Mecanismos para **tomar decisiones** (`if`) y **repetir acciones** (`for`, `while`).\n",
    "\n",
    "## ¿Para qué se usan?\n",
    "Para **controlar el flujo** de un programa según condiciones y colecciones.\n",
    "\n",
    "## Ideas clave\n",
    "- La **indentación** define bloques.\n",
    "- `for` itera sobre secuencias; `range(n)` genera 0..n-1.\n",
    "- `while` repite mientras la condición sea verdadera.\n",
    "- `break`/`continue` controlan el bucle.\n"
   ]
  },
  {
   "cell_type": "code",
   "execution_count": null,
   "metadata": {},
   "outputs": [],
   "source": [
    "# Par o impar\n",
    "n = 7\n",
    "if n % 2 == 0:\n",
    "    print(\"Par\")\n",
    "else:\n",
    "    print(\"Impar\")\n",
    "\n",
    "# Suma 1..10\n",
    "total = 0\n",
    "for i in range(1, 11):\n",
    "    total += i\n",
    "print(\"Suma 1..10:\", total)\n",
    "\n",
    "# Cuenta regresiva con while\n",
    "c = 5\n",
    "while c > 0:\n",
    "    print(c)\n",
    "    c -= 1\n"
   ]
  },
  {
   "cell_type": "markdown",
   "metadata": {},
   "source": [
    "### Ejercicios\n",
    "- E1: Clasifica una nota (0–100) en A/B/C/D/F.\n",
    "- E2: Imprime la tabla de multiplicar de un número (1–10).\n",
    "- E3: Con `while`, pide números hasta 0; muestra suma y promedio.\n",
    "\n",
    "### Reto extra\n",
    "**FizzBuzz** de 1 a 100.\n"
   ]
  },
  {
   "cell_type": "code",
   "execution_count": 11,
   "id": "8cea06bb",
   "metadata": {},
   "outputs": [
    {
     "name": "stdout",
     "output_type": "stream",
     "text": [
      "Nota inválida.\n"
     ]
    }
   ],
   "source": [
    "#Ejercicio 1\n",
    "\n",
    "nota = int(input(\"Ingresa tu nota (0-100): \"))\n",
    "\n",
    "if nota >= 90 and nota <= 100:\n",
    "    print(\"Calificación: A\")\n",
    "elif nota >= 80 and nota <= 90:\n",
    "    print(\"Calificación: B\")\n",
    "elif nota >= 70 and nota <= 80:\n",
    "    print(\"Calificación: C\")\n",
    "elif nota >= 60 and nota <= 70:\n",
    "    print(\"Calificación: D\")\n",
    "elif nota >= 0 and nota < 60:\n",
    "    print(\"Calificación: F\")\n",
    "else:\n",
    "    print(\"Nota inválida.\")"
   ]
  },
  {
   "cell_type": "code",
   "execution_count": 13,
   "id": "7324920b",
   "metadata": {},
   "outputs": [
    {
     "name": "stdout",
     "output_type": "stream",
     "text": [
      "\n",
      "Tabla de multiplicar del 7:\n",
      "7 x 1 = 7\n",
      "7 x 2 = 14\n",
      "7 x 3 = 21\n",
      "7 x 4 = 28\n",
      "7 x 5 = 35\n",
      "7 x 6 = 42\n",
      "7 x 7 = 49\n",
      "7 x 8 = 56\n",
      "7 x 9 = 63\n",
      "7 x 10 = 70\n"
     ]
    }
   ],
   "source": [
    "#Ejercicio 2\n",
    "\n",
    "numero = int(input(\"Ingresa un número: \"))\n",
    "\n",
    "print(f\"\\nTabla de multiplicar del {numero}:\")\n",
    "for i in range(1, 11):\n",
    "    print(f\"{numero} x {i} = {numero * i}\")"
   ]
  },
  {
   "cell_type": "code",
   "execution_count": 14,
   "id": "3098d818",
   "metadata": {},
   "outputs": [
    {
     "name": "stdout",
     "output_type": "stream",
     "text": [
      "\n",
      "Suma: 9\n",
      "Promedio: 3.0\n"
     ]
    }
   ],
   "source": [
    "#Ejercicio 3\n",
    "\n",
    "suma = 0\n",
    "contador = 0\n",
    "\n",
    "numero = int(input(\"Ingresa un número (0 para terminar): \"))\n",
    "\n",
    "while numero != 0:\n",
    "    suma += numero\n",
    "    contador += 1\n",
    "    numero = int(input(\"Ingresa otro número (0 para terminar): \"))\n",
    "\n",
    "if contador > 0:\n",
    "    promedio = suma / contador\n",
    "    print(f\"\\nSuma: {suma}\")\n",
    "    print(f\"Promedio: {promedio}\")\n",
    "else:\n",
    "    print(\"No ingresaste números.\")"
   ]
  }
 ],
 "metadata": {
  "kernelspec": {
   "display_name": "Python 3",
   "language": "python",
   "name": "python3"
  },
  "language_info": {
   "codemirror_mode": {
    "name": "ipython",
    "version": 3
   },
   "file_extension": ".py",
   "mimetype": "text/x-python",
   "name": "python",
   "nbconvert_exporter": "python",
   "pygments_lexer": "ipython3",
   "version": "3.12.10"
  }
 },
 "nbformat": 4,
 "nbformat_minor": 5
}
