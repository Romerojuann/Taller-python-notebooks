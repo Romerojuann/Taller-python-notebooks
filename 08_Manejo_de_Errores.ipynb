{
 "cells": [
  {
   "cell_type": "markdown",
   "metadata": {},
   "source": [
    "# 8) Manejo de errores (excepciones)\n",
    "\n",
    "## ¿Qué es?\n",
    "Un **mecanismo para responder a fallos** en tiempo de ejecución sin romper el programa.\n",
    "\n",
    "## ¿Para qué se usa?\n",
    "Para **procesar entradas inválidas, errores de cálculo o recursos faltantes**.\n",
    "\n",
    "## Bloques útiles\n",
    "- `try`/`except` para capturar excepciones\n",
    "- `else` para código que corre si no hubo excepción\n",
    "- `finally` para limpieza\n",
    "- `raise` para lanzar errores propios\n"
   ]
  },
  {
   "cell_type": "code",
   "execution_count": null,
   "metadata": {},
   "outputs": [],
   "source": [
    "try:\n",
    "    n = int(\"42\")\n",
    "    print(\"Doble:\", n*2)\n",
    "except ValueError:\n",
    "    print(\"Entrada no válida.\")\n",
    "\n",
    "try:\n",
    "    x = 10 / 0\n",
    "except ZeroDivisionError:\n",
    "    print(\"No puedes dividir por cero.\")\n"
   ]
  },
  {
   "cell_type": "markdown",
   "metadata": {},
   "source": [
    "### Ejercicios\n",
    "- E1: Conversor robusto `str -> int` que reintente si falla.\n",
    "- E2: Calculadora con manejo de `ZeroDivisionError` y `ValueError`.\n",
    "- E3: Lector de opción de menú que solo acepta `1..4`.\n",
    "\n",
    "### Reto extra\n",
    "`leer_float(msg, intentos=3)` que reintente y lance excepción personalizada si se agotan intentos.\n"
   ]
  },
  {
   "cell_type": "code",
   "execution_count": null,
   "metadata": {},
   "outputs": [],
   "source": [
    "# Pista para el reto\n",
    "class IntentosAgotadosError(Exception):\n",
    "    pass\n",
    "\n",
    "def leer_float(msg, intentos=3):\n",
    "    for i in range(intentos):\n",
    "        try:\n",
    "            return float(input(msg))\n",
    "        except ValueError:\n",
    "            print(\"No es número. Intenta de nuevo.\")\n",
    "    raise IntentosAgotadosError(\"Se agotaron los intentos.\")\n"
   ]
  },
  {
   "cell_type": "code",
   "execution_count": 5,
   "id": "3baaf8d6",
   "metadata": {},
   "outputs": [
    {
     "name": "stdout",
     "output_type": "stream",
     "text": [
      "Error: Debes ingresar un número válido.\n",
      "Error: Debes ingresar un número válido.\n",
      "Error: Debes ingresar un número válido.\n",
      "Error: Debes ingresar un número válido.\n",
      "Ingresaste el número 20\n"
     ]
    }
   ],
   "source": [
    "#Ejercicio 1\n",
    "\n",
    "#def declara la función\n",
    "\n",
    "def leer_entero(mensaje=\"Ingresa un número entero: \"):\n",
    "    while True:\n",
    "        try:  \n",
    "            return int(input(mensaje))\n",
    "        except ValueError:\n",
    "            print(\"Error: Debes ingresar un número válido.\")\n",
    "\n",
    "# Ejemplo\n",
    "numero = leer_entero()\n",
    "print(f\"Ingresaste el número {numero}\")"
   ]
  },
  {
   "cell_type": "code",
   "execution_count": 14,
   "id": "f225c1a9",
   "metadata": {},
   "outputs": [
    {
     "name": "stdout",
     "output_type": "stream",
     "text": [
      "Error: No se puede dividir entre cero.\n"
     ]
    }
   ],
   "source": [
    "#Ejercicio 2\n",
    "\n",
    "try:\n",
    "    a = float(input(\"Ingresa el primer número: \"))\n",
    "    b = float(input(\"Ingresa el segundo número: \"))\n",
    "    operacion = input(\"Operación (+, -, *, /): \")\n",
    "\n",
    "    if operacion == \"+\":\n",
    "        print(f\"Resultado: {a + b}\")\n",
    "    elif operacion == \"-\":\n",
    "        print(f\"Resultado: {a - b}\")\n",
    "    elif operacion == \"*\":\n",
    "        print(f\"Resultado: {a * b}\")\n",
    "    elif operacion == \"/\":\n",
    "        try:\n",
    "            print(f\"Resultado: {a / b}\")\n",
    "        except ZeroDivisionError:\n",
    "            print(\"Error: No se puede dividir entre cero.\")\n",
    "    else:\n",
    "        print(\"Operación no válida.\")\n",
    "\n",
    "except ValueError:\n",
    "    print(\"Error: Debes ingresar números válidos.\")"
   ]
  },
  {
   "cell_type": "code",
   "execution_count": 20,
   "id": "44919aae",
   "metadata": {},
   "outputs": [
    {
     "name": "stdout",
     "output_type": "stream",
     "text": [
      "Opción inválida, intenta de nuevo.\n",
      "Opción inválida, intenta de nuevo.\n",
      "Opción inválida, intenta de nuevo.\n",
      "Opción inválida, intenta de nuevo.\n",
      "Opción inválida, intenta de nuevo.\n",
      "Opción inválida, intenta de nuevo.\n",
      "Opción seleccionada: 2\n"
     ]
    }
   ],
   "source": [
    "#Ejercicio 3\n",
    "\n",
    "opcion = 0   #not in valida que el numero no esté dentro de la lista\n",
    "while opcion not in [1, 2, 3, 4]:  # [lista] \n",
    "    try:\n",
    "        opcion = int(input(\"Elige una opción (1-4): \"))\n",
    "        if opcion not in [1, 2, 3, 4]:\n",
    "            print(\"Opción inválida, intenta de nuevo.\")\n",
    "    except ValueError:\n",
    "        print(\"Error: Ingresa un número entre 1 y 4.\")\n",
    "\n",
    "print(f\"Opción seleccionada: {opcion}\")"
   ]
  }
 ],
 "metadata": {
  "kernelspec": {
   "display_name": "Python 3",
   "language": "python",
   "name": "python3"
  },
  "language_info": {
   "codemirror_mode": {
    "name": "ipython",
    "version": 3
   },
   "file_extension": ".py",
   "mimetype": "text/x-python",
   "name": "python",
   "nbconvert_exporter": "python",
   "pygments_lexer": "ipython3",
   "version": "3.12.10"
  }
 },
 "nbformat": 4,
 "nbformat_minor": 5
}
