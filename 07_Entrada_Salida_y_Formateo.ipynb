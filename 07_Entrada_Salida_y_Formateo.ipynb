{
 "cells": [
  {
   "cell_type": "markdown",
   "metadata": {},
   "source": [
    "# 7) Entrada/Salida y formateo\n",
    "\n",
    "## ¿Qué es?\n",
    "La **interacción por consola**: leer con `input()` y mostrar con `print()`.\n",
    "\n",
    "## ¿Para qué se usa?\n",
    "Para **recoger datos del usuario** y **presentar resultados** con buen formato.\n",
    "\n",
    "## Claves de formateo\n",
    "- f-strings: `f\"{valor:.2f}\"`\n",
    "- `sep` y `end` en `print`\n",
    "- Conversión explícita de tipos al leer (`int`, `float`)\n"
   ]
  },
  {
   "cell_type": "code",
   "execution_count": null,
   "metadata": {},
   "outputs": [],
   "source": [
    "# Suma con formateo\n",
    "a = 12.3456\n",
    "b = 7.8\n",
    "print(f\"Suma: {a + b:.2f}\")\n",
    "print(\"uno\", \"dos\", \"tres\", sep=\" | \", end=\".\n",
    "\")\n"
   ]
  },
  {
   "cell_type": "markdown",
   "metadata": {},
   "source": [
    "### Ejercicios\n",
    "- E1: Pide nombre y año de nacimiento; calcula edad.\n",
    "- E2: Factura: subtotal, IVA (19%), total con 2 decimales.\n",
    "- E3: “Ficha” multi-línea con `\\n` y f-strings.\n",
    "\n",
    "### Reto extra\n",
    "Lee tres notas y muestra promedio, mínima, máxima y si aprueba (>=3.0).\n"
   ]
  },
  {
   "cell_type": "code",
   "execution_count": 1,
   "id": "e29dbd1c",
   "metadata": {},
   "outputs": [
    {
     "name": "stdout",
     "output_type": "stream",
     "text": [
      "Juan, tienes 18 años.\n"
     ]
    }
   ],
   "source": [
    "#Ejercicio 1 \n",
    "\n",
    "from datetime import date\n",
    "\n",
    "nombre = input(\"Ingresa tu nombre: \")\n",
    "año_nacimiento = int(input(\"Ingresa tu año de nacimiento: \"))\n",
    "\n",
    "año_actual = date.today().year\n",
    "edad = año_actual - año_nacimiento\n",
    "\n",
    "print(f\"{nombre}, tienes {edad} años.\")\n"
   ]
  },
  {
   "cell_type": "code",
   "execution_count": 2,
   "id": "474b7620",
   "metadata": {},
   "outputs": [
    {
     "name": "stdout",
     "output_type": "stream",
     "text": [
      "Subtotal: 1200.00\n",
      "IVA (19%): 228.00\n",
      "Total: 1428.00\n"
     ]
    }
   ],
   "source": [
    "#Ejercicio 2\n",
    "\n",
    "subtotal = float(input(\"Ingresa el subtotal: \"))\n",
    "\n",
    "iva = subtotal * 0.19\n",
    "total = subtotal + iva\n",
    "\n",
    "print(f\"Subtotal: {subtotal:.2f}\")\n",
    "print(f\"IVA (19%): {iva:.2f}\")\n",
    "print(f\"Total: {total:.2f}\")\n"
   ]
  },
  {
   "cell_type": "code",
   "execution_count": 3,
   "id": "ceb84982",
   "metadata": {},
   "outputs": [
    {
     "name": "stdout",
     "output_type": "stream",
     "text": [
      "=== FICHA PERSONAL ===\n",
      "Nombre: Juan\n",
      "Edad: 18\n",
      "Ciudad: Bogotá\n"
     ]
    }
   ],
   "source": [
    "#Ejercicio 3\n",
    "\n",
    "nombre = \"Juan\"\n",
    "edad = 18\n",
    "ciudad = \"Bogotá\"\n",
    "\n",
    "ficha = f\"=== FICHA PERSONAL ===\\nNombre: {nombre}\\nEdad: {edad}\\nCiudad: {ciudad}\"\n",
    "print(ficha)\n"
   ]
  }
 ],
 "metadata": {
  "kernelspec": {
   "display_name": "Python 3",
   "language": "python",
   "name": "python3"
  },
  "language_info": {
   "codemirror_mode": {
    "name": "ipython",
    "version": 3
   },
   "file_extension": ".py",
   "mimetype": "text/x-python",
   "name": "python",
   "nbconvert_exporter": "python",
   "pygments_lexer": "ipython3",
   "version": "3.12.10"
  }
 },
 "nbformat": 4,
 "nbformat_minor": 5
}
