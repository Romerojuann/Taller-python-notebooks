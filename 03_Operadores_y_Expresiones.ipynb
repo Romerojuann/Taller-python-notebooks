{
 "cells": [
  {
   "cell_type": "markdown",
   "metadata": {},
   "source": [
    "# 3) Operadores y expresiones\n",
    "\n",
    "## ¿Qué son?\n",
    "Los **operadores** combinan valores para producir un resultado (*expresiones*).\n",
    "\n",
    "## ¿Para qué se usan?\n",
    "Para **calcular, comparar y tomar decisiones**. Son la base de toda lógica.\n",
    "\n",
    "## Familias principales\n",
    "- Aritméticos: `+ - * / // % **`\n",
    "- Comparación: `== != > < >= <=`\n",
    "- Lógicos: `and or not`\n",
    "- Precedencia: paréntesis > potencias > multiplicación/división > suma/resta\n"
   ]
  },
  {
   "cell_type": "code",
   "execution_count": null,
   "metadata": {},
   "outputs": [],
   "source": [
    "a, b = 10, 3\n",
    "print(\"Aritméticos:\", a + b, a - b, a * b, a / b, a // b, a % b, a ** b)\n",
    "print(\"Comparación:\", a == b, a != b, a > b, a <= b)\n",
    "x, y = True, False\n",
    "print(\"Lógicos:\", x and y, x or y, not x)\n"
   ]
  },
  {
   "cell_type": "markdown",
   "metadata": {},
   "source": [
    "### Ejercicios\n",
    "- E1: Área de un círculo con `pi=3.14159` y radio fijo.\n",
    "- E2: Verifica si un número es múltiplo de 3 y 5.\n",
    "- E3: Evalúa si una edad está en el rango 18–65.\n",
    "\n",
    "### Reto extra\n",
    "Calculadora por consola que reciba `a`, `b` y una operación, y muestre el resultado.\n"
   ]
  },
  {
   "cell_type": "code",
   "execution_count": null,
   "metadata": {},
   "outputs": [],
   "source": [
    "# Pista: calculadora básica\n",
    "a, b, op = 12, 5, \"*\"\n",
    "if op == \"+\":\n",
    "    print(a + b)\n",
    "elif op == \"-\":\n",
    "    print(a - b)\n",
    "elif op == \"*\":\n",
    "    print(a * b)\n",
    "elif op == \"/\":\n",
    "    print(a / b)\n",
    "elif op == \"//\":\n",
    "    print(a // b)\n",
    "elif op == \"%\":\n",
    "    print(a % b)\n",
    "elif op == \"**\":\n",
    "    print(a ** b)\n",
    "else:\n",
    "    print(\"Operación no reconocida\")\n"
   ]
  },
  {
   "cell_type": "code",
   "execution_count": 1,
   "id": "42880ec1",
   "metadata": {},
   "outputs": [
    {
     "name": "stdout",
     "output_type": "stream",
     "text": [
      "El área del círculo con radio 5 es 78.53975\n"
     ]
    }
   ],
   "source": [
    "#Ejercicio 1\n",
    "\n",
    "pi = 3.14159\n",
    "radio = 5  # fijo radio \n",
    "\n",
    "area = pi * radio**2\n",
    "\n",
    "print(f\"El área del círculo con radio {radio} es {area}\")"
   ]
  },
  {
   "cell_type": "code",
   "execution_count": 4,
   "id": "4be627b0",
   "metadata": {},
   "outputs": [
    {
     "name": "stdout",
     "output_type": "stream",
     "text": [
      "25 no es múltiplo de 3 y 5.\n"
     ]
    }
   ],
   "source": [
    "#Ejercicio 2\n",
    "\n",
    "numero = int(input(\"Ingresa un número: \"))\n",
    "\n",
    "if numero % 3 == 0 and numero % 5 == 0:\n",
    "\n",
    "#% 3 y % 5 == 0 significa que no sobra nada al dividir entre 3 y 5 \n",
    "\n",
    "    print(f\"{numero} es múltiplo de 3 y 5.\")\n",
    "else:\n",
    "    print(f\"{numero} no es múltiplo de 3 y 5.\")"
   ]
  },
  {
   "cell_type": "code",
   "execution_count": 6,
   "id": "0929bf25",
   "metadata": {},
   "outputs": [
    {
     "name": "stdout",
     "output_type": "stream",
     "text": [
      "Tienes 12 años, estás fuera del rango (18–65).\n"
     ]
    }
   ],
   "source": [
    "#Ejercicio 3 \n",
    "\n",
    "edad = int(input(\"Ingresa tu edad: \"))\n",
    "\n",
    "if 18 <= edad <= 65:\n",
    "    print(f\"Tienes {edad} años, estás en el rango permitido (18–65).\")\n",
    "else:\n",
    "    print(f\"Tienes {edad} años, estás fuera del rango (18–65).\")\n"
   ]
  }
 ],
 "metadata": {
  "kernelspec": {
   "display_name": "Python 3",
   "language": "python",
   "name": "python3"
  },
  "language_info": {
   "codemirror_mode": {
    "name": "ipython",
    "version": 3
   },
   "file_extension": ".py",
   "mimetype": "text/x-python",
   "name": "python",
   "nbconvert_exporter": "python",
   "pygments_lexer": "ipython3",
   "version": "3.12.10"
  }
 },
 "nbformat": 4,
 "nbformat_minor": 5
}
