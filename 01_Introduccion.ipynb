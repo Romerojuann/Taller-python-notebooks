{
 "cells": [
  {
   "cell_type": "markdown",
   "id": "cf127b4b",
   "metadata": {},
   "source": [
    "# 1) Introducción y *Hola, mundo*\n",
    "\n",
    "## ¿Qué es Python?\n",
    "Python es un **lenguaje de programación de propósito general**, interpretado y con sintaxis clara. Destaca por su legibilidad y una batería estándar amplia.\n",
    "\n",
    "## ¿Para qué se usa?\n",
    "- Scripts y automatización\n",
    "- Ciencia de datos y aprendizaje automático\n",
    "- Desarrollo web, APIs y microservicios\n",
    "- Computación científica, prototipado rápido, educación\n",
    "\n",
    "## Ideas clave\n",
    "- **REPL** (consola interactiva) y **scripts** (`.py`).\n",
    "- **Indentación** significativa: los bloques se definen por sangría.\n",
    "- Comunidad enorme y ecosistema de librerías.\n"
   ]
  },
  {
   "cell_type": "markdown",
   "id": "0a1d1824",
   "metadata": {},
   "source": [
    "## Taller — Paso a paso\n",
    "1. Crea un archivo `hola.py` con un `print`.\n",
    "2. Ejecútalo desde la terminal (o usa el botón *Run* en el notebook).\n",
    "3. Agrega expresiones aritméticas y múltiples impresiones.\n"
   ]
  },
  {
   "cell_type": "code",
   "execution_count": null,
   "id": "ce8d3273",
   "metadata": {},
   "outputs": [],
   "source": [
    "# Tu primer programa\n",
    "print(\"¡Hola, Python!\")\n",
    "print(\"2 + 2 =\", 2 + 2)\n"
   ]
  },
  {
   "cell_type": "markdown",
   "id": "3e552c62",
   "metadata": {},
   "source": [
    "### Ejercicios guiados\n",
    "- E1: Imprime tu nombre y ciudad.\n",
    "- E2: Imprime tres líneas usando `\\n`.\n",
    "- E3: Crea una variable `hoy` con la fecha actual formateada.\n",
    "\n",
    "### Reto extra\n",
    "Dibuja un marco simple con caracteres y un saludo en el centro.\n"
   ]
  },
  {
   "cell_type": "code",
   "execution_count": null,
   "id": "2aae8b3d",
   "metadata": {},
   "outputs": [
    {
     "name": "stdout",
     "output_type": "stream",
     "text": [
      "Juan, Bogotá\n"
     ]
    }
   ],
   "source": [
    "#Ejercicio 1 \n",
    "print (\"Juan, Bogotá\")"
   ]
  },
  {
   "cell_type": "code",
   "execution_count": 1,
   "id": "d434149d",
   "metadata": {},
   "outputs": [
    {
     "name": "stdout",
     "output_type": "stream",
     "text": [
      "Primera línea\n",
      "Segunda línea\n",
      "Tercera línea\n"
     ]
    }
   ],
   "source": [
    "#Ejercicio 2\n",
    "print(\"Primera línea\\nSegunda línea\\nTercera línea\")"
   ]
  },
  {
   "cell_type": "code",
   "execution_count": 2,
   "id": "4fb750b5",
   "metadata": {},
   "outputs": [
    {
     "name": "stdout",
     "output_type": "stream",
     "text": [
      "09/09/2025\n"
     ]
    }
   ],
   "source": [
    "from datetime import date\n",
    "\n",
    "hoy = date.today().strftime(\"%d/%m/%Y\")\n",
    "print(hoy)"
   ]
  },
  {
   "cell_type": "code",
   "execution_count": 2,
   "id": "8c825689",
   "metadata": {},
   "outputs": [
    {
     "name": "stdout",
     "output_type": "stream",
     "text": [
      "Hoy es: 2025-09-09\n"
     ]
    }
   ],
   "source": [
    "# Pista para E3 (no es obligatorio usarlo aquí)\n",
    "from datetime import datetime\n",
    "hoy = datetime.now().strftime(\"%Y-%m-%d\")\n",
    "print(\"Hoy es:\", hoy)\n"
   ]
  }
 ],
 "metadata": {
  "kernelspec": {
   "display_name": "Python 3",
   "language": "python",
   "name": "python3"
  },
  "language_info": {
   "codemirror_mode": {
    "name": "ipython",
    "version": 3
   },
   "file_extension": ".py",
   "mimetype": "text/x-python",
   "name": "python",
   "nbconvert_exporter": "python",
   "pygments_lexer": "ipython3",
   "version": "3.12.10"
  }
 },
 "nbformat": 4,
 "nbformat_minor": 5
}
