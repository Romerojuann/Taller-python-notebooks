{
 "cells": [
  {
   "cell_type": "markdown",
   "metadata": {},
   "source": [
    "# 5) Colecciones: listas, tuplas y diccionarios\n",
    "\n",
    "## ¿Qué son?\n",
    "Estructuras para **agrupar datos**: secuencias (`list`, `tuple`) y mapeos (`dict`).\n",
    "\n",
    "## ¿Para qué se usan?\n",
    "Para **organizar, acceder y transformar** conjuntos de valores.\n",
    "\n",
    "## Puntos clave\n",
    "- `list` (mutable) — métodos como `append`, `pop`, `sort`.\n",
    "- `tuple` (inmutable) — útil para datos que no cambian.\n",
    "- `dict` (clave→valor) — acceso por clave y métodos `.items()`, `.keys()`.\n"
   ]
  },
  {
   "cell_type": "code",
   "execution_count": null,
   "metadata": {},
   "outputs": [],
   "source": [
    "comidas = [\"arepa\", \"ajiaco\", \"bandeja\"]\n",
    "comidas.append(\"sancocho\")\n",
    "print(\"Lista:\", comidas)\n",
    "\n",
    "punto = (10, 20)\n",
    "print(\"Tupla:\", punto[0], punto[1])\n",
    "\n",
    "persona = {\"nombre\": \"Ada\", \"edad\": 28, \"ciudad\": \"Bogotá\"}\n",
    "persona[\"edad\"] += 1\n",
    "for k, v in persona.items():\n",
    "    print(k, \"->\", v)\n"
   ]
  },
  {
   "cell_type": "markdown",
   "metadata": {},
   "source": [
    "### Ejercicios\n",
    "- E1: Lista de 5 números, calcula suma y promedio.\n",
    "- E2: Diccionario de 3 contactos (nombre→tel), consulta por nombre.\n",
    "- E3: Convierte lista de pares `(clave, valor)` en `dict` y recórrelo.\n",
    "\n",
    "### Reto extra\n",
    "**Inventario simple**: lista de dicts con `{\"producto\",\"precio\",\"stock\"}`. Muestra:\n",
    "- Total del inventario.\n",
    "- Producto más caro.\n"
   ]
  },
  {
   "cell_type": "code",
   "execution_count": 1,
   "id": "c6a4b7dc",
   "metadata": {},
   "outputs": [
    {
     "name": "stdout",
     "output_type": "stream",
     "text": [
      "Números: [10, 20, 30, 40, 50]\n",
      "Suma: 150\n",
      "Promedio: 30.0\n"
     ]
    }
   ],
   "source": [
    "#Ejercicio 1\n",
    "\n",
    "# Lista de 5 números\n",
    "numeros = [10, 20, 30, 40, 50]\n",
    "\n",
    "# Calculo la suma y el promedio\n",
    "suma = sum(numeros)\n",
    "promedio = suma / len(numeros)\n",
    "\n",
    "# Mostrar resultados\n",
    "print(\"Números:\", numeros)\n",
    "print(\"Suma:\", suma)\n",
    "print(\"Promedio:\", promedio)"
   ]
  },
  {
   "cell_type": "code",
   "execution_count": 4,
   "id": "928b658c",
   "metadata": {},
   "outputs": [
    {
     "name": "stdout",
     "output_type": "stream",
     "text": [
      "El teléfono de Pedro es 3005551122\n"
     ]
    }
   ],
   "source": [
    "#Ejercicio 2\n",
    "\n",
    "# Diccionario con contactos\n",
    "contactos = {\n",
    "    \"Juan\": \"3101234567\",\n",
    "    \"Ana\": \"3209876543\",\n",
    "    \"Pedro\": \"3005551122\"\n",
    "}\n",
    "\n",
    "# Consultar por nombre\n",
    "nombre = input(\"Ingresa el nombre del contacto: \")\n",
    "\n",
    "if nombre in contactos:\n",
    "    print(f\"El teléfono de {nombre} es {contactos[nombre]}\")\n",
    "else:\n",
    "    print(\"Contacto no encontrado.\")"
   ]
  },
  {
   "cell_type": "code",
   "execution_count": 5,
   "id": "618bdf3e",
   "metadata": {},
   "outputs": [
    {
     "name": "stdout",
     "output_type": "stream",
     "text": [
      "Juan → 20\n",
      "Ana → 25\n",
      "Pedro → 30\n"
     ]
    }
   ],
   "source": [
    "#Ejercicio 3\n",
    "\n",
    "# Lista de pares (clave, valor)\n",
    "pares = [(\"Juan\", 20), (\"Ana\", 25), (\"Pedro\", 30)]\n",
    "\n",
    "# Convertir a diccionario\n",
    "diccionario = dict(pares)\n",
    "\n",
    "# Recorrer el diccionario\n",
    "for clave, valor in diccionario.items():\n",
    "    print(f\"{clave} → {valor}\")"
   ]
  }
 ],
 "metadata": {
  "kernelspec": {
   "display_name": "Python 3",
   "language": "python",
   "name": "python3"
  },
  "language_info": {
   "codemirror_mode": {
    "name": "ipython",
    "version": 3
   },
   "file_extension": ".py",
   "mimetype": "text/x-python",
   "name": "python",
   "nbconvert_exporter": "python",
   "pygments_lexer": "ipython3",
   "version": "3.12.10"
  }
 },
 "nbformat": 4,
 "nbformat_minor": 5
}
