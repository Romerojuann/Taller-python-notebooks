{
 "cells": [
  {
   "cell_type": "markdown",
   "metadata": {},
   "source": [
    "# 6) Funciones\n",
    "\n",
    "## ¿Qué son?\n",
    "Bloques reutilizables de código que **reciben parámetros** y **devuelven resultados**.\n",
    "\n",
    "## ¿Para qué se usan?\n",
    "Para **encapsular lógica**, evitar duplicación y mejorar claridad y pruebas.\n",
    "\n",
    "## Ideas clave\n",
    "- `def nombre(param...) -> retorno`\n",
    "- Valores por defecto, *docstrings*, pruebas simples\n",
    "- Ámbito: variables locales vs globales\n"
   ]
  },
  {
   "cell_type": "code",
   "execution_count": null,
   "metadata": {},
   "outputs": [],
   "source": [
    "def saluda(nombre: str) -> str:\n",
    "    \"\"\"Devuelve un saludo personalizado.\"\"\"\n",
    "    return f\"Hola, {nombre}!\"\n",
    "\n",
    "def potencia(base: float, exp: int = 2) -> float:\n",
    "    return base ** exp\n",
    "\n",
    "print(saluda(\"Ada\"))\n",
    "print(\"Potencia:\", potencia(3), potencia(2, 5))\n"
   ]
  },
  {
   "cell_type": "markdown",
   "metadata": {},
   "source": [
    "### Ejercicios\n",
    "- E1: `suma(a,b)` y `es_par(n)`.\n",
    "- E2: `promedio(numeros: list[float]) -> float`.\n",
    "- E3: `normaliza_nombre(s)`: quita espacios y capitaliza.\n",
    "\n",
    "### Reto extra\n",
    "`filtra_mayores(lista, umbral)` y `transforma(lista, f)` (simulan `filter`/`map`).\n"
   ]
  },
  {
   "cell_type": "code",
   "execution_count": null,
   "metadata": {},
   "outputs": [],
   "source": [
    "# Pista para promedio\n",
    "def promedio(nums):\n",
    "    return sum(nums) / len(nums) if nums else 0.0\n",
    "\n",
    "print(\"Promedio de [1,2,3]:\", promedio([1,2,3]))\n"
   ]
  },
  {
   "cell_type": "code",
   "execution_count": 1,
   "id": "7cf7e41f",
   "metadata": {},
   "outputs": [
    {
     "name": "stdout",
     "output_type": "stream",
     "text": [
      "Suma 5 + 3 = 8\n",
      "¿8 es par? True\n",
      "¿7 es par? False\n"
     ]
    }
   ],
   "source": [
    "#Ejercicio 1 \n",
    "\n",
    "def suma(a, b):\n",
    "    return a + b\n",
    "\n",
    "def es_par(n):\n",
    "    return n % 2 == 0\n",
    "\n",
    "# Ejemplos\n",
    "print(\"Suma 5 + 3 =\", suma(5, 3))\n",
    "print(\"¿8 es par?\", es_par(8))\n",
    "print(\"¿7 es par?\", es_par(7))"
   ]
  },
  {
   "cell_type": "code",
   "execution_count": null,
   "id": "ce95376d",
   "metadata": {},
   "outputs": [
    {
     "name": "stdout",
     "output_type": "stream",
     "text": [
      "Promedio: 25.0\n"
     ]
    }
   ],
   "source": [
    "#Ejercicio 2\n",
    "\n",
    "def promedio(numeros: list[float]) -> float:\n",
    "    return sum(numeros) / len(numeros) if numeros else 0\n",
    "\n",
    "# Ejemplo \n",
    "lista = [10, 20, 30, 40]\n",
    "print(\"Promedio:\", promedio(lista))"
   ]
  },
  {
   "cell_type": "code",
   "execution_count": 4,
   "id": "bbeb79f4",
   "metadata": {},
   "outputs": [
    {
     "name": "stdout",
     "output_type": "stream",
     "text": [
      "Juan\n",
      "Ana\n"
     ]
    }
   ],
   "source": [
    "#Ejercicio 3 \n",
    "\n",
    "def normaliza_nombre(s: str) -> str:\n",
    "    return s.strip().capitalize()\n",
    "\n",
    "# Ejemplos\n",
    "print(normaliza_nombre(\"   juan  \"))   # \"Juan\"\n",
    "print(normaliza_nombre(\"ana\"))         # \"Ana\""
   ]
  }
 ],
 "metadata": {
  "kernelspec": {
   "display_name": "Python 3",
   "language": "python",
   "name": "python3"
  },
  "language_info": {
   "codemirror_mode": {
    "name": "ipython",
    "version": 3
   },
   "file_extension": ".py",
   "mimetype": "text/x-python",
   "name": "python",
   "nbconvert_exporter": "python",
   "pygments_lexer": "ipython3",
   "version": "3.12.10"
  }
 },
 "nbformat": 4,
 "nbformat_minor": 5
}
